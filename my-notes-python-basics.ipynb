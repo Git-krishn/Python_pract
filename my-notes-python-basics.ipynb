{
 "cells": [
  {
   "cell_type": "code",
   "execution_count": 1,
   "id": "becaaca0",
   "metadata": {
    "_cell_guid": "abf0294c-5ca2-4a53-9274-8bc91c8101c5",
    "_uuid": "99809206-e390-4aab-a134-9ec9c051a6c2",
    "collapsed": false,
    "editable": false,
    "execution": {
     "iopub.execute_input": "2022-03-31T12:10:04.577388Z",
     "iopub.status.busy": "2022-03-31T12:10:04.575556Z",
     "iopub.status.idle": "2022-03-31T12:10:04.588037Z",
     "shell.execute_reply": "2022-03-31T12:10:04.588635Z",
     "shell.execute_reply.started": "2022-03-31T11:42:39.395236Z"
    },
    "jupyter": {
     "outputs_hidden": false
    },
    "papermill": {
     "duration": 0.026523,
     "end_time": "2022-03-31T12:10:04.589005",
     "exception": false,
     "start_time": "2022-03-31T12:10:04.562482",
     "status": "completed"
    },
    "tags": []
   },
   "outputs": [],
   "source": [
    "# This Python 3 environment comes with many helpful analytics libraries installed\n",
    "# It is defined by the kaggle/python Docker image: https://github.com/kaggle/docker-python\n",
    "# For example, here's several helpful packages to load\n",
    "\n",
    "import numpy as np # linear algebra\n",
    "import pandas as pd # data processing, CSV file I/O (e.g. pd.read_csv)\n",
    "\n",
    "# Input data files are available in the read-only \"../input/\" directory\n",
    "# For example, running this (by clicking run or pressing Shift+Enter) will list all files under the input directory\n",
    "\n",
    "import os\n",
    "for dirname, _, filenames in os.walk('/kaggle/input'):\n",
    "    for filename in filenames:\n",
    "        print(os.path.join(dirname, filename))\n",
    "\n",
    "# You can write up to 20GB to the current directory (/kaggle/working/) that gets preserved as output when you create a version using \"Save & Run All\" \n",
    "# You can also write temporary files to /kaggle/temp/, but they won't be saved outside of the current session"
   ]
  },
  {
   "cell_type": "code",
   "execution_count": 2,
   "id": "e0ac1e67",
   "metadata": {
    "_cell_guid": "fa1a1b8b-acf8-4348-8700-695c85fc72c0",
    "_uuid": "3e3a0a7a-e857-4667-b8c1-18a7da6a39f1",
    "collapsed": false,
    "execution": {
     "iopub.execute_input": "2022-03-31T12:10:04.612700Z",
     "iopub.status.busy": "2022-03-31T12:10:04.611892Z",
     "iopub.status.idle": "2022-03-31T12:10:04.619592Z",
     "shell.execute_reply": "2022-03-31T12:10:04.620374Z",
     "shell.execute_reply.started": "2022-03-31T12:07:09.643884Z"
    },
    "jupyter": {
     "outputs_hidden": false
    },
    "papermill": {
     "duration": 0.023325,
     "end_time": "2022-03-31T12:10:04.620648",
     "exception": false,
     "start_time": "2022-03-31T12:10:04.597323",
     "status": "completed"
    },
    "tags": []
   },
   "outputs": [
    {
     "name": "stdout",
     "output_type": "stream",
     "text": [
      "welcome to python\n",
      "What's your name?\n",
      "this is the \n",
      "notes for python\n",
      "17\n",
      "17\n",
      "29\n",
      "welcome \n",
      "your name?\n",
      "THIS IS THE \n",
      "NOTES FOR PYTHON\n",
      "3\n",
      "12\n",
      "welcome to coding\n",
      "welcome to coding, with krish\n",
      "welcome to coding, with krish, thanks!\n",
      "welcome to coding, with KRISH, thanks!\n",
      "['__add__', '__class__', '__contains__', '__delattr__', '__dir__', '__doc__', '__eq__', '__format__', '__ge__', '__getattribute__', '__getitem__', '__getnewargs__', '__gt__', '__hash__', '__init__', '__init_subclass__', '__iter__', '__le__', '__len__', '__lt__', '__mod__', '__mul__', '__ne__', '__new__', '__reduce__', '__reduce_ex__', '__repr__', '__rmod__', '__rmul__', '__setattr__', '__sizeof__', '__str__', '__subclasshook__', 'capitalize', 'casefold', 'center', 'count', 'encode', 'endswith', 'expandtabs', 'find', 'format', 'format_map', 'index', 'isalnum', 'isalpha', 'isascii', 'isdecimal', 'isdigit', 'isidentifier', 'islower', 'isnumeric', 'isprintable', 'isspace', 'istitle', 'isupper', 'join', 'ljust', 'lower', 'lstrip', 'maketrans', 'partition', 'replace', 'rfind', 'rindex', 'rjust', 'rpartition', 'rsplit', 'rstrip', 'split', 'splitlines', 'startswith', 'strip', 'swapcase', 'title', 'translate', 'upper', 'zfill']\n"
     ]
    }
   ],
   "source": [
    "# strings:\n",
    "# Strings are collection of alphabets, words or other characters. It is one of the primitive data structure. \n",
    "# Python has a built in data class called as str.\n",
    "# Python strings are immutable, meaning they cannot be changed after created.\n",
    "message = 'welcome to python' # we can either use '' quotes or \"\" to write a string\n",
    "\n",
    "print(message)\n",
    "\n",
    "#we can use '\\' inside the string so that we don't cofuse python with out own aposthrpe's in the string \n",
    "\n",
    "question = 'What\\'s your name?' ## instead we can use \"\" to omit this issue\n",
    "print(question)\n",
    "\n",
    "# to create a multi line string we need to use three quotes \n",
    "\n",
    "status = '''this is the \n",
    "notes for python'''\n",
    "print(status)\n",
    "\n",
    "\n",
    "#we can find number of characters are present in the string as well with len function\n",
    "\n",
    "print(len(message))\n",
    "\n",
    "print(len(question))\n",
    "print(len(status))\n",
    "\n",
    "\n",
    "#we can access our strings characters individually, so we can use [] after the stinfg and we can location of the index of our string\n",
    "\n",
    "#we can use the starting and ending point of the index to print out the characters we want from the string \n",
    "print (message[0:8])\n",
    "#if we want the from certain index till the end we can use\n",
    "print(question[7:]) # this is called as slicing \n",
    "\n",
    "# let just say we want all the characters in the string in upper case we can use .upper and .lower for lower case\n",
    "\n",
    "print(status.upper())\n",
    "\n",
    "\n",
    "#let say we want the number of characters in the sting we can pass in count\n",
    "\n",
    "print(message.count('o')) # this displays no.of o's are present in the string\n",
    "\n",
    "# we can find the string of characters index using find\n",
    "\n",
    "print(question.find('name'))\n",
    "\n",
    "#we can use replace inside the string and use it to new variable\n",
    "\n",
    "message = (message.replace('python','coding'))\n",
    "print(message)\n",
    "\n",
    "# we can combine two strings with + operator\n",
    "\n",
    "name = 'krish'\n",
    "\n",
    "print(message + ', ' + 'with ' + name ) \n",
    "\n",
    "# instead of using + symbols and making string complex we can use place holders inside our string with {}\n",
    "\n",
    "greeting = '{}, with {}, thanks!'.format(message,name)\n",
    "print(greeting)\n",
    "\n",
    "\n",
    "#we can use fstrings which makes string formatting as simple as possible\n",
    "\n",
    "greetings = f'{message}, with {name.upper()}, thanks!'\n",
    "print(greetings)\n",
    "\n",
    "\n",
    "# we can use this dir function to know what kind attributes and methods  we can perform to the variable\n",
    "\n",
    "print(dir(greeting))"
   ]
  },
  {
   "cell_type": "markdown",
   "id": "5af4b3c2",
   "metadata": {
    "papermill": {
     "duration": 0.006048,
     "end_time": "2022-03-31T12:10:04.634860",
     "exception": false,
     "start_time": "2022-03-31T12:10:04.628812",
     "status": "completed"
    },
    "tags": []
   },
   "source": []
  },
  {
   "cell_type": "code",
   "execution_count": null,
   "id": "7f19b3ee",
   "metadata": {
    "papermill": {
     "duration": 0.006009,
     "end_time": "2022-03-31T12:10:04.647294",
     "exception": false,
     "start_time": "2022-03-31T12:10:04.641285",
     "status": "completed"
    },
    "tags": []
   },
   "outputs": [],
   "source": []
  }
 ],
 "metadata": {
  "kernelspec": {
   "display_name": "Python 3",
   "language": "python",
   "name": "python3"
  },
  "language_info": {
   "codemirror_mode": {
    "name": "ipython",
    "version": 3
   },
   "file_extension": ".py",
   "mimetype": "text/x-python",
   "name": "python",
   "nbconvert_exporter": "python",
   "pygments_lexer": "ipython3",
   "version": "3.7.12"
  },
  "papermill": {
   "default_parameters": {},
   "duration": 11.296886,
   "end_time": "2022-03-31T12:10:05.264191",
   "environment_variables": {},
   "exception": null,
   "input_path": "__notebook__.ipynb",
   "output_path": "__notebook__.ipynb",
   "parameters": {},
   "start_time": "2022-03-31T12:09:53.967305",
   "version": "2.3.3"
  }
 },
 "nbformat": 4,
 "nbformat_minor": 5
}
