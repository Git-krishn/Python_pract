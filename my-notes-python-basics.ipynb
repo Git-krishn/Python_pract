{
 "cells": [
  {
   "cell_type": "code",
   "execution_count": 1,
   "id": "dc22d14f",
   "metadata": {
    "_cell_guid": "abf0294c-5ca2-4a53-9274-8bc91c8101c5",
    "_uuid": "99809206-e390-4aab-a134-9ec9c051a6c2",
    "collapsed": false,
    "editable": false,
    "execution": {
     "iopub.execute_input": "2022-04-02T04:17:45.106628Z",
     "iopub.status.busy": "2022-04-02T04:17:45.106028Z",
     "iopub.status.idle": "2022-04-02T04:17:45.110322Z",
     "shell.execute_reply": "2022-04-02T04:17:45.109733Z",
     "shell.execute_reply.started": "2022-04-02T04:02:06.942606Z"
    },
    "jupyter": {
     "outputs_hidden": false
    },
    "papermill": {
     "duration": 0.022775,
     "end_time": "2022-04-02T04:17:45.110493",
     "exception": false,
     "start_time": "2022-04-02T04:17:45.087718",
     "status": "completed"
    },
    "tags": []
   },
   "outputs": [],
   "source": [
    "# This Python 3 environment comes with many helpful analytics libraries installed\n",
    "# It is defined by the kaggle/python Docker image: https://github.com/kaggle/docker-python\n",
    "# For example, here's several helpful packages to load\n",
    "\n",
    "import numpy as np # linear algebra\n",
    "import pandas as pd # data processing, CSV file I/O (e.g. pd.read_csv)\n",
    "\n",
    "# Input data files are available in the read-only \"../input/\" directory\n",
    "# For example, running this (by clicking run or pressing Shift+Enter) will list all files under the input directory\n",
    "\n",
    "import os\n",
    "for dirname, _, filenames in os.walk('/kaggle/input'):\n",
    "    for filename in filenames:\n",
    "        print(os.path.join(dirname, filename))\n",
    "\n",
    "# You can write up to 20GB to the current directory (/kaggle/working/) that gets preserved as output when you create a version using \"Save & Run All\" \n",
    "# You can also write temporary files to /kaggle/temp/, but they won't be saved outside of the current session"
   ]
  },
  {
   "cell_type": "code",
   "execution_count": 2,
   "id": "4463eee5",
   "metadata": {
    "_cell_guid": "fa1a1b8b-acf8-4348-8700-695c85fc72c0",
    "_uuid": "3e3a0a7a-e857-4667-b8c1-18a7da6a39f1",
    "collapsed": false,
    "execution": {
     "iopub.execute_input": "2022-04-02T04:17:45.133539Z",
     "iopub.status.busy": "2022-04-02T04:17:45.127119Z",
     "iopub.status.idle": "2022-04-02T04:17:45.141496Z",
     "shell.execute_reply": "2022-04-02T04:17:45.142127Z",
     "shell.execute_reply.started": "2022-03-31T12:12:25.27873Z"
    },
    "jupyter": {
     "outputs_hidden": false
    },
    "papermill": {
     "duration": 0.024121,
     "end_time": "2022-04-02T04:17:45.142383",
     "exception": false,
     "start_time": "2022-04-02T04:17:45.118262",
     "status": "completed"
    },
    "tags": []
   },
   "outputs": [
    {
     "name": "stdout",
     "output_type": "stream",
     "text": [
      "welcome to python\n",
      "What's your name?\n",
      "this is the \n",
      "notes for python\n",
      "17\n",
      "17\n",
      "29\n",
      "welcome \n",
      "your name?\n",
      "THIS IS THE \n",
      "NOTES FOR PYTHON\n",
      "3\n",
      "12\n",
      "welcome to coding\n",
      "welcome to coding, with krish\n",
      "welcome to coding, with krish, thanks!\n",
      "welcome to coding, with KRISH, thanks!\n",
      "['__add__', '__class__', '__contains__', '__delattr__', '__dir__', '__doc__', '__eq__', '__format__', '__ge__', '__getattribute__', '__getitem__', '__getnewargs__', '__gt__', '__hash__', '__init__', '__init_subclass__', '__iter__', '__le__', '__len__', '__lt__', '__mod__', '__mul__', '__ne__', '__new__', '__reduce__', '__reduce_ex__', '__repr__', '__rmod__', '__rmul__', '__setattr__', '__sizeof__', '__str__', '__subclasshook__', 'capitalize', 'casefold', 'center', 'count', 'encode', 'endswith', 'expandtabs', 'find', 'format', 'format_map', 'index', 'isalnum', 'isalpha', 'isascii', 'isdecimal', 'isdigit', 'isidentifier', 'islower', 'isnumeric', 'isprintable', 'isspace', 'istitle', 'isupper', 'join', 'ljust', 'lower', 'lstrip', 'maketrans', 'partition', 'replace', 'rfind', 'rindex', 'rjust', 'rpartition', 'rsplit', 'rstrip', 'split', 'splitlines', 'startswith', 'strip', 'swapcase', 'title', 'translate', 'upper', 'zfill']\n",
      "Help on method_descriptor:\n",
      "\n",
      "rindex(...)\n",
      "    S.rindex(sub[, start[, end]]) -> int\n",
      "    \n",
      "    Return the highest index in S where substring sub is found,\n",
      "    such that sub is contained within S[start:end].  Optional\n",
      "    arguments start and end are interpreted as in slice notation.\n",
      "    \n",
      "    Raises ValueError when the substring is not found.\n",
      "\n",
      "None\n"
     ]
    }
   ],
   "source": [
    "# strings:\n",
    "# Strings are collection of alphabets, words or other characters. It is one of the primitive data structure. \n",
    "# Python has a built in data class called as str.\n",
    "# Python strings are immutable, meaning they cannot be changed after created.\n",
    "message = 'welcome to python' # we can either use '' quotes or \"\" to write a string\n",
    "\n",
    "print(message)\n",
    "\n",
    "#we can use '\\' inside the string so that we don't cofuse python with out own aposthrpe's in the string \n",
    "\n",
    "question = 'What\\'s your name?' ## instead we can use \"\" to omit this issue\n",
    "print(question)\n",
    "\n",
    "# to create a multi line string we need to use three quotes \n",
    "\n",
    "status = '''this is the \n",
    "notes for python'''\n",
    "print(status)\n",
    "\n",
    "\n",
    "#we can find number of characters are present in the string as well with len function\n",
    "\n",
    "print(len(message))\n",
    "\n",
    "print(len(question))\n",
    "print(len(status))\n",
    "\n",
    "\n",
    "#we can access our strings characters individually, so we can use [] after the stinfg and we can location of the index of our string\n",
    "\n",
    "#we can use the starting and ending point of the index to print out the characters we want from the string \n",
    "print (message[0:8])\n",
    "#if we want the from certain index till the end we can use\n",
    "print(question[7:]) # this is called as slicing \n",
    "\n",
    "# let just say we want all the characters in the string in upper case we can use .upper and .lower for lower case\n",
    "\n",
    "print(status.upper())\n",
    "\n",
    "\n",
    "#let say we want the number of characters in the sting we can pass in count\n",
    "\n",
    "print(message.count('o')) # this displays no.of o's are present in the string\n",
    "\n",
    "# we can find the string of characters index using find\n",
    "\n",
    "print(question.find('name'))\n",
    "\n",
    "#we can use replace inside the string and use it to new variable\n",
    "\n",
    "message = (message.replace('python','coding'))\n",
    "print(message)\n",
    "\n",
    "# we can combine two strings with + operator\n",
    "\n",
    "name = 'krish'\n",
    "\n",
    "print(message + ', ' + 'with ' + name ) \n",
    "\n",
    "# instead of using + symbols and making string complex we can use place holders inside our string with {}\n",
    "\n",
    "greeting = '{}, with {}, thanks!'.format(message,name)\n",
    "print(greeting)\n",
    "\n",
    "\n",
    "#we can use fstrings which makes string formatting as simple as possible\n",
    "\n",
    "greetings = f'{message}, with {name.upper()}, thanks!'\n",
    "print(greetings)\n",
    "\n",
    "\n",
    "# we can use this dir function to know what kind attributes and methods  we can perform to the variable\n",
    "\n",
    "print(dir(greeting))\n",
    "\n",
    "#we can use help function to know about thes attributes\n",
    "\n",
    "print(help(str.rindex))"
   ]
  },
  {
   "cell_type": "code",
   "execution_count": 3,
   "id": "3d6e4641",
   "metadata": {
    "execution": {
     "iopub.execute_input": "2022-04-02T04:17:45.163467Z",
     "iopub.status.busy": "2022-04-02T04:17:45.159016Z",
     "iopub.status.idle": "2022-04-02T04:17:45.167294Z",
     "shell.execute_reply": "2022-04-02T04:17:45.166710Z",
     "shell.execute_reply.started": "2022-04-02T04:09:12.594529Z"
    },
    "papermill": {
     "duration": 0.016942,
     "end_time": "2022-04-02T04:17:45.167441",
     "exception": false,
     "start_time": "2022-04-02T04:17:45.150499",
     "status": "completed"
    },
    "tags": []
   },
   "outputs": [
    {
     "name": "stdout",
     "output_type": "stream",
     "text": [
      "5\n",
      "1\n",
      "6\n",
      "1.5\n",
      "1\n",
      "9\n",
      "1\n",
      "3.2\n",
      "3\n",
      "4\n",
      "3.5\n"
     ]
    }
   ],
   "source": [
    "#Arthimetic operators\n",
    "\n",
    "#addition\n",
    "print(3 + 2)\n",
    "\n",
    "#subtraction\n",
    "\n",
    "print(3 - 2)\n",
    "\n",
    "#mulitplication\n",
    "\n",
    "print(3 * 2)\n",
    "\n",
    "#divison\n",
    "\n",
    "print(3 / 2)\n",
    "\n",
    "#floor division\n",
    "\n",
    "print(3 // 2) #floor division is used to remove the decimal values of the output\n",
    "\n",
    "#Exponent\n",
    "\n",
    "print(3 ** 2)\n",
    "\n",
    "\n",
    "#modulus\n",
    "\n",
    "print(3 % 2) #modulus gives remainder of the division\n",
    " \n",
    "\n",
    "#abs  -  is the built in function of the python where it prints out the postive absolute value of the input\n",
    "\n",
    "print(abs(-3.2))\n",
    "\n",
    "#round - is the built in function of the python where it prints the nearest round value as the output\n",
    "\n",
    "print(round(3.1))\n",
    "print(round(3.6))\n",
    "\n",
    "print(round(3.498,1))\n",
    "\n",
    "\n",
    "\n"
   ]
  },
  {
   "cell_type": "code",
   "execution_count": 4,
   "id": "f3b93959",
   "metadata": {
    "execution": {
     "iopub.execute_input": "2022-04-02T04:17:45.186389Z",
     "iopub.status.busy": "2022-04-02T04:17:45.185774Z",
     "iopub.status.idle": "2022-04-02T04:17:45.188383Z",
     "shell.execute_reply": "2022-04-02T04:17:45.189076Z",
     "shell.execute_reply.started": "2022-04-02T04:11:51.506437Z"
    },
    "papermill": {
     "duration": 0.015632,
     "end_time": "2022-04-02T04:17:45.189308",
     "exception": false,
     "start_time": "2022-04-02T04:17:45.173676",
     "status": "completed"
    },
    "tags": []
   },
   "outputs": [
    {
     "name": "stdout",
     "output_type": "stream",
     "text": [
      "False\n",
      "True\n",
      "False\n",
      "True\n",
      "False\n",
      "True\n"
     ]
    }
   ],
   "source": [
    "#comparisions\n",
    "num1 = 3\n",
    "num2 = 5\n",
    "\n",
    "\n",
    "print(num1 == num2 )\n",
    "\n",
    "print(num1 != num2)\n",
    "\n",
    "print(num1 > num2)\n",
    "\n",
    "print(num1 < num2)\n",
    "\n",
    "print(num1 >= num2)\n",
    "\n",
    "print(num1 <= num2)\n"
   ]
  },
  {
   "cell_type": "code",
   "execution_count": 5,
   "id": "fcdea63f",
   "metadata": {
    "execution": {
     "iopub.execute_input": "2022-04-02T04:17:45.206991Z",
     "iopub.status.busy": "2022-04-02T04:17:45.206295Z",
     "iopub.status.idle": "2022-04-02T04:17:45.210785Z",
     "shell.execute_reply": "2022-04-02T04:17:45.211243Z",
     "shell.execute_reply.started": "2022-04-02T04:16:11.880076Z"
    },
    "papermill": {
     "duration": 0.014492,
     "end_time": "2022-04-02T04:17:45.211423",
     "exception": false,
     "start_time": "2022-04-02T04:17:45.196931",
     "status": "completed"
    },
    "tags": []
   },
   "outputs": [
    {
     "name": "stdout",
     "output_type": "stream",
     "text": [
      "12112\n",
      "133\n"
     ]
    }
   ],
   "source": [
    "#let just say we have two numericals but they are in string format but we need to print the addition of these numbers \n",
    "#we can cast these numbers so that we can perform out addition\n",
    "\n",
    "A = '121'\n",
    "B = '12'\n",
    "\n",
    "print(A + B) #we get a string as an out put\n",
    "\n",
    "print(int(A) + int(B)) #we can perform arthimetric operations by casting them to int\n",
    "\n"
   ]
  }
 ],
 "metadata": {
  "kernelspec": {
   "display_name": "Python 3",
   "language": "python",
   "name": "python3"
  },
  "language_info": {
   "codemirror_mode": {
    "name": "ipython",
    "version": 3
   },
   "file_extension": ".py",
   "mimetype": "text/x-python",
   "name": "python",
   "nbconvert_exporter": "python",
   "pygments_lexer": "ipython3",
   "version": "3.7.12"
  },
  "papermill": {
   "default_parameters": {},
   "duration": 9.361944,
   "end_time": "2022-04-02T04:17:46.131310",
   "environment_variables": {},
   "exception": null,
   "input_path": "__notebook__.ipynb",
   "output_path": "__notebook__.ipynb",
   "parameters": {},
   "start_time": "2022-04-02T04:17:36.769366",
   "version": "2.3.3"
  }
 },
 "nbformat": 4,
 "nbformat_minor": 5
}
