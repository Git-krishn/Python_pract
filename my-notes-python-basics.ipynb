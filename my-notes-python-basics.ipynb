{
 "cells": [
  {
   "cell_type": "code",
   "execution_count": 1,
   "id": "8a043b5c",
   "metadata": {
    "_cell_guid": "b1076dfc-b9ad-4769-8c92-a6c4dae69d19",
    "_uuid": "8f2839f25d086af736a60e9eeb907d3b93b6e0e5",
    "execution": {
     "iopub.execute_input": "2022-03-31T11:16:15.372162Z",
     "iopub.status.busy": "2022-03-31T11:16:15.371081Z",
     "iopub.status.idle": "2022-03-31T11:16:15.379766Z",
     "shell.execute_reply": "2022-03-31T11:16:15.380267Z",
     "shell.execute_reply.started": "2022-03-31T10:46:32.779553Z"
    },
    "papermill": {
     "duration": 0.024435,
     "end_time": "2022-03-31T11:16:15.380665",
     "exception": false,
     "start_time": "2022-03-31T11:16:15.356230",
     "status": "completed"
    },
    "tags": []
   },
   "outputs": [],
   "source": [
    "# This Python 3 environment comes with many helpful analytics libraries installed\n",
    "# It is defined by the kaggle/python Docker image: https://github.com/kaggle/docker-python\n",
    "# For example, here's several helpful packages to load\n",
    "\n",
    "import numpy as np # linear algebra\n",
    "import pandas as pd # data processing, CSV file I/O (e.g. pd.read_csv)\n",
    "\n",
    "# Input data files are available in the read-only \"../input/\" directory\n",
    "# For example, running this (by clicking run or pressing Shift+Enter) will list all files under the input directory\n",
    "\n",
    "import os\n",
    "for dirname, _, filenames in os.walk('/kaggle/input'):\n",
    "    for filename in filenames:\n",
    "        print(os.path.join(dirname, filename))\n",
    "\n",
    "# You can write up to 20GB to the current directory (/kaggle/working/) that gets preserved as output when you create a version using \"Save & Run All\" \n",
    "# You can also write temporary files to /kaggle/temp/, but they won't be saved outside of the current session"
   ]
  },
  {
   "cell_type": "code",
   "execution_count": 2,
   "id": "7dcb3fe2",
   "metadata": {
    "execution": {
     "iopub.execute_input": "2022-03-31T11:16:15.393969Z",
     "iopub.status.busy": "2022-03-31T11:16:15.393301Z",
     "iopub.status.idle": "2022-03-31T11:16:15.403060Z",
     "shell.execute_reply": "2022-03-31T11:16:15.403548Z",
     "shell.execute_reply.started": "2022-03-31T11:13:14.067409Z"
    },
    "papermill": {
     "duration": 0.017933,
     "end_time": "2022-03-31T11:16:15.403726",
     "exception": false,
     "start_time": "2022-03-31T11:16:15.385793",
     "status": "completed"
    },
    "tags": []
   },
   "outputs": [
    {
     "name": "stdout",
     "output_type": "stream",
     "text": [
      "welcome to python\n",
      "What's your name?\n",
      "this is the \n",
      "notes for python\n",
      "17\n",
      "17\n",
      "29\n",
      "welcome \n",
      "your name?\n"
     ]
    }
   ],
   "source": [
    "# strings:\n",
    "# Strings are collection of alphabets, words or other characters. It is one of the primitive data structure. \n",
    "# Python has a built in data class called as str.\n",
    "# Python strings are immutable, meaning they cannot be changed after created.\n",
    "message = 'welcome to python' # we can either use '' quotes or \"\" to write a string\n",
    "\n",
    "print(message)\n",
    "\n",
    "#we can use '\\' inside the string so that we don't cofuse python with out own aposthrpe's in the string \n",
    "\n",
    "question = 'What\\'s your name?' ## instead we can use \"\" to omit this issue\n",
    "print(question)\n",
    "\n",
    "# to create a multi line string we need to use three quotes \n",
    "\n",
    "status = '''this is the \n",
    "notes for python'''\n",
    "print(status)\n",
    "\n",
    "\n",
    "#we can find number of characters are present in the string as well with len function\n",
    "\n",
    "print(len(message))\n",
    "\n",
    "print(len(question))\n",
    "print(len(status))\n",
    "\n",
    "\n",
    "#we can access our strings characters individually, so we can use [] after the stinfg and we can location of the index of our string\n",
    "\n",
    "#we can use the starting and ending point of the index to print out the characters we want from the string \n",
    "print (message[0:8])\n",
    "#if we want the from certain index till the end we can use\n",
    "print(question[7:]) # this is called as slicing \n",
    "\n",
    "\n",
    "\n",
    "\n"
   ]
  },
  {
   "cell_type": "code",
   "execution_count": null,
   "id": "d597fb3a",
   "metadata": {
    "papermill": {
     "duration": 0.004673,
     "end_time": "2022-03-31T11:16:15.413927",
     "exception": false,
     "start_time": "2022-03-31T11:16:15.409254",
     "status": "completed"
    },
    "tags": []
   },
   "outputs": [],
   "source": []
  }
 ],
 "metadata": {
  "kernelspec": {
   "display_name": "Python 3",
   "language": "python",
   "name": "python3"
  },
  "language_info": {
   "codemirror_mode": {
    "name": "ipython",
    "version": 3
   },
   "file_extension": ".py",
   "mimetype": "text/x-python",
   "name": "python",
   "nbconvert_exporter": "python",
   "pygments_lexer": "ipython3",
   "version": "3.7.12"
  },
  "papermill": {
   "default_parameters": {},
   "duration": 11.150361,
   "end_time": "2022-03-31T11:16:16.229663",
   "environment_variables": {},
   "exception": null,
   "input_path": "__notebook__.ipynb",
   "output_path": "__notebook__.ipynb",
   "parameters": {},
   "start_time": "2022-03-31T11:16:05.079302",
   "version": "2.3.3"
  }
 },
 "nbformat": 4,
 "nbformat_minor": 5
}
